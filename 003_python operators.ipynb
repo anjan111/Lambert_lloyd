{
 "cells": [
  {
   "cell_type": "code",
   "execution_count": 3,
   "metadata": {},
   "outputs": [
    {
     "name": "stdout",
     "output_type": "stream",
     "text": [
      "unary operator\n",
      "34\n",
      "-45\n",
      "False\n",
      "-68\n",
      "binary operators\n",
      "57\n",
      "11\n",
      "True\n",
      "True\n",
      "34\n"
     ]
    }
   ],
   "source": [
    "# operator\n",
    "\n",
    "'''\n",
    "-->> The symbols are used for to do the operation on operands\n",
    "'''\n",
    "# operation\n",
    "'''\n",
    "--->> the process of solving the equations\n",
    "'''\n",
    "# operand \n",
    "'''\n",
    "--->> the data with in the operations \n",
    "'''\n",
    "# Based on 2 ways\n",
    "'''\n",
    "1. Based on operands \n",
    "\n",
    "2. Based on operations\n",
    "'''\n",
    "# Based on Operands \n",
    "print \"unary operator\"\n",
    "'''\n",
    "1. unary operator\n",
    "\n",
    "    ===>>> A single operator is operating on single operand\n",
    "    \n",
    "'''\n",
    "print + 34  # unary plus\n",
    "print - 45  # unary minus\n",
    "print not True # logical not\n",
    "print ~ 67 # bitwise not\n",
    "print \"binary operators\"\n",
    "'''\n",
    "2. binary operator\n",
    "\n",
    "    ===>>> A single operator is operating on the 2 operands\n",
    "'''\n",
    "print  12 +  45\n",
    "print  34 -  23\n",
    "print 12  <  34\n",
    "print 45  == 45\n",
    "print 34  or 23"
   ]
  },
  {
   "cell_type": "code",
   "execution_count": 4,
   "metadata": {},
   "outputs": [
    {
     "name": "stdout",
     "output_type": "stream",
     "text": [
      "add :  47\n",
      "sub :  43\n",
      "mul :  90\n",
      "div :  22\n",
      "rem :  1\n"
     ]
    }
   ],
   "source": [
    "# Based on the operations \n",
    "'''\n",
    "-->>> Arithmetic Operator\n",
    "-->>> Relational Operators\n",
    "-->>> Logical Operators\n",
    "-->>> Special Operators\n",
    "-->>> Assignment operator\n",
    "-->>> Bitwise operators\n",
    "'''\n",
    "# Arithmetic Operators\n",
    "'''\n",
    "1. addition        +\n",
    "2. subtraction     -\n",
    "3. Multiplpication *\n",
    "4. division        /\n",
    "5. modulus         %\n",
    "'''\n",
    "a = 45\n",
    "b = 2\n",
    "print \"add : \",a+b\n",
    "print \"sub : \",a-b\n",
    "print \"mul : \",a * b\n",
    "print \"div : \",a/b\n",
    "print \"rem : \",a%b"
   ]
  },
  {
   "cell_type": "code",
   "execution_count": 5,
   "metadata": {},
   "outputs": [
    {
     "name": "stdout",
     "output_type": "stream",
     "text": [
      "add :  47.0\n",
      "sub :  43.0\n",
      "mul :  90.0\n",
      "div :  22.5\n",
      "rem :  1.0\n"
     ]
    }
   ],
   "source": [
    "a = 45.0\n",
    "b = 2\n",
    "print \"add : \",a+b\n",
    "print \"sub : \",a-b\n",
    "print \"mul : \",a * b\n",
    "print \"div : \",a/b\n",
    "print \"rem : \",a%b"
   ]
  },
  {
   "cell_type": "code",
   "execution_count": 7,
   "metadata": {},
   "outputs": [
    {
     "name": "stdout",
     "output_type": "stream",
     "text": [
      "22\n",
      "22\n",
      "22.5\n",
      "22.0\n"
     ]
    }
   ],
   "source": [
    "'''\n",
    "--->> floor devision    //\n",
    "--->> exponwnt          **\n",
    "'''\n",
    "a = 45\n",
    "b = 2\n",
    "print a/b\n",
    "print a // b\n",
    "a = 45.0\n",
    "b = 2\n",
    "print a/b\n",
    "print a // b"
   ]
  },
  {
   "cell_type": "code",
   "execution_count": 8,
   "metadata": {},
   "outputs": [
    {
     "name": "stdout",
     "output_type": "stream",
     "text": [
      "1000\n",
      "144\n",
      "32\n"
     ]
    }
   ],
   "source": [
    "print 10 ** 3\n",
    "print 12  ** 2\n",
    "print 2  ** 5"
   ]
  },
  {
   "cell_type": "code",
   "execution_count": 9,
   "metadata": {},
   "outputs": [
    {
     "name": "stdout",
     "output_type": "stream",
     "text": [
      "enter raduis in meters : 45\n",
      "area :  6364.28571429  sq . m \n"
     ]
    }
   ],
   "source": [
    "# wap find the are of circle  ( pi * ( r **2))\n",
    "r = input(\"enter raduis in meters : \")\n",
    "pi = 22.0/7\n",
    "area = pi*(r ** 2)\n",
    "print \"area : \",area,\" sq . m \""
   ]
  },
  {
   "cell_type": "code",
   "execution_count": null,
   "metadata": {},
   "outputs": [],
   "source": [
    "# wap find the area and perimeter of square\n",
    "# wap find the area and perimeter of rectangle\n",
    "# wap find the area and perimeter of triangle\n",
    "# wap find the area and volume of cube\n",
    "# wap find the simple interest "
   ]
  },
  {
   "cell_type": "code",
   "execution_count": null,
   "metadata": {},
   "outputs": [],
   "source": []
  },
  {
   "cell_type": "code",
   "execution_count": null,
   "metadata": {},
   "outputs": [],
   "source": []
  }
 ],
 "metadata": {
  "kernelspec": {
   "display_name": "Python 2",
   "language": "python",
   "name": "python2"
  },
  "language_info": {
   "codemirror_mode": {
    "name": "ipython",
    "version": 2
   },
   "file_extension": ".py",
   "mimetype": "text/x-python",
   "name": "python",
   "nbconvert_exporter": "python",
   "pygments_lexer": "ipython2",
   "version": "2.7.16"
  }
 },
 "nbformat": 4,
 "nbformat_minor": 2
}
