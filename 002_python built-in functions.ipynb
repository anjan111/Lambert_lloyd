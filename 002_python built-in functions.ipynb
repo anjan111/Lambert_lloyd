{
 "cells": [
  {
   "cell_type": "markdown",
   "metadata": {},
   "source": [
    "#### function \n",
    "\n",
    "==>> collection of statements to do any one task with in program\n",
    "\n",
    "==>> They are 2 types \n",
    "\n",
    "1. user defined fucntions\n",
    "\n",
    " ===>> whatever  the function which are defined by programmer\n",
    "\n",
    "2. pre defined functions\n",
    "\n",
    " ===>> whatever the functions which are defined in side of python\n",
    " \n",
    " 1. input functions\n",
    " \n",
    "     --->>  to read the data from keyboard \n",
    "     \n",
    "     1. raw_input()\n",
    "     \n",
    "     2. input()\n",
    " \n",
    " 2. output functions\n",
    " \n",
    "     --->>  To display the data on monitor\n",
    "     \n",
    "     1. print() function\n",
    "     \n",
    "     2. print statement\n",
    "     \n",
    " 3. type & id functions\n",
    " \n",
    "     1. type () --->> to know the datatype of any variable\n",
    "     \n",
    "     2. id() ----->>> to know the memory loc of any variable"
   ]
  },
  {
   "cell_type": "code",
   "execution_count": 4,
   "metadata": {},
   "outputs": [
    {
     "name": "stdout",
     "output_type": "stream",
     "text": [
      "enter int data : 78\n",
      "data in var :  78\n",
      "<type 'str'>\n",
      "memory loc :  70421720\n"
     ]
    }
   ],
   "source": [
    "# read int data by raw_input and display the data , datatype, memory of variable\n",
    "var = raw_input(\"enter int data : \")\n",
    "print \"data in var : \",var\n",
    "print (type(var))\n",
    "print \"memory loc : \",id(var)"
   ]
  },
  {
   "cell_type": "code",
   "execution_count": 5,
   "metadata": {},
   "outputs": [
    {
     "name": "stdout",
     "output_type": "stream",
     "text": [
      "enter float : 45.6554\n",
      "data in var :  45.6554\n",
      "<type 'str'>\n",
      "memory loc :  70421320\n"
     ]
    }
   ],
   "source": [
    "# read float data by raw_input and display the data , datatype, memory of variable\n",
    "var = raw_input(\"enter float : \")\n",
    "print \"data in var : \",var\n",
    "print (type(var))\n",
    "print \"memory loc : \",id(var)"
   ]
  },
  {
   "cell_type": "code",
   "execution_count": 6,
   "metadata": {},
   "outputs": [
    {
     "name": "stdout",
     "output_type": "stream",
     "text": [
      "enter complex : 7+3j\n",
      "data in var :  7+3j\n",
      "<type 'str'>\n",
      "memory loc :  70422440\n"
     ]
    }
   ],
   "source": [
    "# read complex data by raw_input and display the data , datatype, memory of variable\n",
    "var = raw_input(\"enter complex : \")\n",
    "print \"data in var : \",var\n",
    "print (type(var))\n",
    "print \"memory loc : \",id(var)"
   ]
  },
  {
   "cell_type": "code",
   "execution_count": 7,
   "metadata": {},
   "outputs": [
    {
     "name": "stdout",
     "output_type": "stream",
     "text": [
      "enter bool : True\n",
      "data in var :  True\n",
      "<type 'str'>\n",
      "memory loc :  70421280\n"
     ]
    }
   ],
   "source": [
    "# read bool data by raw_input and display the data , datatype, memory of variable\n",
    "var = raw_input(\"enter bool : \")\n",
    "print \"data in var : \",var\n",
    "print (type(var))\n",
    "print \"memory loc : \",id(var)"
   ]
  },
  {
   "cell_type": "code",
   "execution_count": 8,
   "metadata": {},
   "outputs": [
    {
     "name": "stdout",
     "output_type": "stream",
     "text": [
      "enter none : None\n",
      "data in var :  None\n",
      "<type 'str'>\n",
      "memory loc :  76827224\n"
     ]
    }
   ],
   "source": [
    "# read Nonetype data by raw_input and display the data , datatype, memory of variable\n",
    "var = raw_input(\"enter none : \")\n",
    "print \"data in var : \",var\n",
    "print (type(var))\n",
    "print \"memory loc : \",id(var)"
   ]
  },
  {
   "cell_type": "code",
   "execution_count": 9,
   "metadata": {},
   "outputs": [
    {
     "name": "stdout",
     "output_type": "stream",
     "text": [
      "enter str : \"soc\"\n",
      "data in var :  \"soc\"\n",
      "<type 'str'>\n",
      "memory loc :  70421120\n"
     ]
    }
   ],
   "source": [
    "# read str data by raw_input and display the data , datatype, memory of variable\n",
    "var = raw_input(\"enter str : \")\n",
    "print \"data in var : \",var\n",
    "print (type(var))\n",
    "print \"memory loc : \",id(var)"
   ]
  },
  {
   "cell_type": "code",
   "execution_count": 10,
   "metadata": {},
   "outputs": [
    {
     "name": "stdout",
     "output_type": "stream",
     "text": [
      "enter list : [12 , 34.34]\n",
      "data in var :  [12 , 34.34]\n",
      "<type 'str'>\n",
      "memory loc :  70656432\n"
     ]
    }
   ],
   "source": [
    "# read list data by raw_input and display the data , datatype, memory of variable\n",
    "var = raw_input(\"enter list : \")\n",
    "print \"data in var : \",var\n",
    "print (type(var))\n",
    "print \"memory loc : \",id(var)"
   ]
  },
  {
   "cell_type": "code",
   "execution_count": 11,
   "metadata": {},
   "outputs": [
    {
     "name": "stdout",
     "output_type": "stream",
     "text": [
      "enter tuple : (12,45.23)\n",
      "data in var :  (12,45.23)\n",
      "<type 'str'>\n",
      "memory loc :  76945712\n"
     ]
    }
   ],
   "source": [
    "# read tuple data by raw_input and display the data , datatype, memory of variable\n",
    "var = raw_input(\"enter tuple : \")\n",
    "print \"data in var : \",var\n",
    "print (type(var))\n",
    "print \"memory loc : \",id(var)"
   ]
  },
  {
   "cell_type": "code",
   "execution_count": 12,
   "metadata": {},
   "outputs": [
    {
     "name": "stdout",
     "output_type": "stream",
     "text": [
      "enter set : {12,34.233}\n",
      "data in var :  {12,34.233}\n",
      "<type 'str'>\n",
      "memory loc :  70656384\n"
     ]
    }
   ],
   "source": [
    "# read set data by raw_input and display the data , datatype, memory of variable\n",
    "var = raw_input(\"enter set : \")\n",
    "print \"data in var : \",var\n",
    "print (type(var))\n",
    "print \"memory loc : \",id(var)"
   ]
  },
  {
   "cell_type": "code",
   "execution_count": 13,
   "metadata": {},
   "outputs": [
    {
     "name": "stdout",
     "output_type": "stream",
     "text": [
      "enter dict: {12 : \"soc\" , 45 : \"python\"}\n",
      "data in var :  {12 : \"soc\" , 45 : \"python\"}\n",
      "<type 'str'>\n",
      "memory loc :  77746928\n"
     ]
    }
   ],
   "source": [
    "# read dict data by raw_input and display the data , datatype, memory of variable\n",
    "var = raw_input(\"enter dict: \")\n",
    "print \"data in var : \",var\n",
    "print (type(var))\n",
    "print \"memory loc : \",id(var)"
   ]
  },
  {
   "cell_type": "code",
   "execution_count": 15,
   "metadata": {},
   "outputs": [
    {
     "name": "stdout",
     "output_type": "stream",
     "text": [
      "enter int : 78\n",
      "data in var :  78\n",
      "<type 'int'>\n",
      "memory loc :  40926416\n"
     ]
    }
   ],
   "source": [
    "# read int data by input and display the data , datatype, memory of variable\n",
    "var = input(\"enter int : \")\n",
    "print \"data in var : \",var\n",
    "print (type(var))\n",
    "print \"memory loc : \",id(var)"
   ]
  },
  {
   "cell_type": "code",
   "execution_count": 16,
   "metadata": {},
   "outputs": [
    {
     "name": "stdout",
     "output_type": "stream",
     "text": [
      "enter float : 78.64665\n",
      "data in var :  78.64665\n",
      "<type 'float'>\n",
      "memory loc :  69988096\n"
     ]
    }
   ],
   "source": [
    "# read float data by input and display the data , datatype, memory of variable\n",
    "var = input(\"enter float : \")\n",
    "print \"data in var : \",var\n",
    "print (type(var))\n",
    "print \"memory loc : \",id(var)"
   ]
  },
  {
   "cell_type": "code",
   "execution_count": 17,
   "metadata": {},
   "outputs": [
    {
     "name": "stdout",
     "output_type": "stream",
     "text": [
      "enter complpex : 3+2j\n",
      "data in var :  (3+2j)\n",
      "<type 'complex'>\n",
      "memory loc :  70490192\n"
     ]
    }
   ],
   "source": [
    "# read complex data by input and display the data , datatype, memory of variable\n",
    "var = input(\"enter complpex : \")\n",
    "print \"data in var : \",var\n",
    "print (type(var))\n",
    "print \"memory loc : \",id(var)"
   ]
  },
  {
   "cell_type": "code",
   "execution_count": null,
   "metadata": {},
   "outputs": [],
   "source": [
    "# input with all data type s"
   ]
  },
  {
   "cell_type": "code",
   "execution_count": null,
   "metadata": {},
   "outputs": [],
   "source": []
  }
 ],
 "metadata": {
  "kernelspec": {
   "display_name": "Python 2",
   "language": "python",
   "name": "python2"
  },
  "language_info": {
   "codemirror_mode": {
    "name": "ipython",
    "version": 2
   },
   "file_extension": ".py",
   "mimetype": "text/x-python",
   "name": "python",
   "nbconvert_exporter": "python",
   "pygments_lexer": "ipython2",
   "version": "2.7.16"
  }
 },
 "nbformat": 4,
 "nbformat_minor": 2
}
